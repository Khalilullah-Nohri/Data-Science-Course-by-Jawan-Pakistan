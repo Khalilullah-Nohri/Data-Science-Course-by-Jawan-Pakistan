{
 "cells": [
  {
   "cell_type": "markdown",
   "metadata": {},
   "source": [
    "# Assignment 01"
   ]
  },
  {
   "cell_type": "code",
   "execution_count": 20,
   "metadata": {},
   "outputs": [
    {
     "name": "stdout",
     "output_type": "stream",
     "text": [
      "Twinkle, twinkle, little star ,\n",
      "\tHow I wonder what you are!\n",
      "\t\tUp above the world so high,\n",
      "\t\tLike a diamond in the sky.\n",
      "Twinkle, twinkle, little star,\n",
      "\tHow I wonder what you are \n"
     ]
    }
   ],
   "source": [
    "# Code #01 \n",
    "print(\"Twinkle, twinkle, little star ,\\n\\tHow I wonder what you are!\\n\\t\\tUp above the world so high,\\n\\t\\tLike a diamond in the sky.\\nTwinkle, twinkle, little star,\\n\\tHow I wonder what you are \")"
   ]
  },
  {
   "cell_type": "code",
   "execution_count": 1,
   "metadata": {},
   "outputs": [
    {
     "name": "stdout",
     "output_type": "stream",
     "text": [
      "Python version--> \n",
      "3.9.7 (default, Sep 16 2021, 16:59:28) [MSC v.1916 64 bit (AMD64)]\n"
     ]
    }
   ],
   "source": [
    "# Code #02\n",
    "import sys\n",
    "print(\"Python version--> \")\n",
    "print (sys.version)"
   ]
  },
  {
   "cell_type": "code",
   "execution_count": 2,
   "metadata": {},
   "outputs": [
    {
     "name": "stdout",
     "output_type": "stream",
     "text": [
      "Current date and time --> \n",
      "22:16:47 02-Jan-2022\n"
     ]
    }
   ],
   "source": [
    "# Code #03\n",
    "import datetime\n",
    "\n",
    "current_date_time = datetime.datetime.now()\n",
    "print (\"Current date and time --> \")\n",
    "print (current_date_time.strftime(\"%H:%M:%S %d-%h-%Y\"))"
   ]
  },
  {
   "cell_type": "code",
   "execution_count": 23,
   "metadata": {},
   "outputs": [
    {
     "name": "stdout",
     "output_type": "stream",
     "text": [
      "Enter the radius of a cirlce : 34\n",
      "Hence the area_of_circle is :  3637.932\n"
     ]
    }
   ],
   "source": [
    "# Code #04\n",
    "\n",
    "PI=3.147\n",
    "radius=input(\"Enter the radius of a cirlce : \")\n",
    "area_of_circle=int(radius)*int(radius)*PI\n",
    "print(\"Hence the area_of_circle is : \",area_of_circle)"
   ]
  },
  {
   "cell_type": "code",
   "execution_count": null,
   "metadata": {},
   "outputs": [],
   "source": [
    "# Code #05\n",
    "First_name=input(\"Enter ur First name : \")\n",
    "Last_name=input(\"Enter ur Last name : \")\n",
    "print(\"Ur lastname & first name is ==> \",Last_name,\" \",First_name)"
   ]
  },
  {
   "cell_type": "code",
   "execution_count": 24,
   "metadata": {},
   "outputs": [
    {
     "name": "stdout",
     "output_type": "stream",
     "text": [
      "Enter first Number 45\n",
      "Enter second Number 45\n",
      "Addition of two input numbers is =  90\n"
     ]
    }
   ],
   "source": [
    "# Code #06\n",
    "first_number=input(\"Enter first Number \")\n",
    "second_number=input(\"Enter second Number \")\n",
    "print(\"Addition of two input numbers is = \",int(second_number)+int(first_number))"
   ]
  }
 ],
 "metadata": {
  "kernelspec": {
   "display_name": "Python 3 (ipykernel)",
   "language": "python",
   "name": "python3"
  },
  "language_info": {
   "codemirror_mode": {
    "name": "ipython",
    "version": 3
   },
   "file_extension": ".py",
   "mimetype": "text/x-python",
   "name": "python",
   "nbconvert_exporter": "python",
   "pygments_lexer": "ipython3",
   "version": "3.9.7"
  }
 },
 "nbformat": 4,
 "nbformat_minor": 4
}
